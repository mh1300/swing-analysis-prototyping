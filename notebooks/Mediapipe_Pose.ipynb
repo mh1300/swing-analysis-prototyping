{
 "cells": [
  {
   "cell_type": "code",
   "execution_count": 113,
   "id": "65ac4176-e512-4527-86ed-49ac3152b50c",
   "metadata": {},
   "outputs": [],
   "source": [
    "import mediapipe as mp\n",
    "from mediapipe.tasks import python\n",
    "from mediapipe.tasks.python import vision\n",
    "from mediapipe.tasks.python.vision import PoseLandmarkerResult\n",
    "from mediapipe import solutions as mp_solutions\n",
    "from mediapipe.framework.formats import landmark_pb2\n",
    "\n",
    "import cv2 as cv"
   ]
  },
  {
   "cell_type": "code",
   "execution_count": 118,
   "id": "1b61e4fb-2971-4e5e-b237-9a6189e084fc",
   "metadata": {},
   "outputs": [
    {
     "name": "stdout",
     "output_type": "stream",
     "text": [
      "138.0\n",
      "1.3333333333333333\n"
     ]
    }
   ],
   "source": [
    "# Absolute Path to the Model\n",
    "modelPath = '/home/matt/Documents/projects/swingAnalysis/swing-analysis-prototyping/models/pose_landmarker_full.task'\n",
    "\n",
    "# Set up MediaPipe base options\n",
    "BaseOptions = mp.tasks.BaseOptions\n",
    "PoseLandmarker = mp.tasks.vision.PoseLandmarker\n",
    "PoseLandmarkerOptions = mp.tasks.vision.PoseLandmarkerOptions\n",
    "VisionRunningMode = mp.tasks.vision.RunningMode\n",
    "\n",
    "# Set up OpenCV Video Capture\n",
    "cap = cv.VideoCapture('../data/videos_160/0.mp4')\n",
    "fps = cap.get(cv.CAP_PROP_FPS)\n",
    "print(cap.get(cv.CAP_PROP_FRAME_COUNT))\n",
    "print(4 / cap.get(cv.CAP_PROP_FRAME_COUNT) * 46)\n",
    "frame_index = 0"
   ]
  },
  {
   "cell_type": "code",
   "execution_count": 110,
   "id": "5184c372-57b9-4040-94b2-0197f484547d",
   "metadata": {},
   "outputs": [],
   "source": [
    "# Create a pose landmarker instance with video mode on\n",
    "options = PoseLandmarkerOptions(\n",
    "    base_options=BaseOptions(model_asset_path=modelPath),\n",
    "    running_mode=VisionRunningMode.VIDEO\n",
    ")"
   ]
  },
  {
   "cell_type": "code",
   "execution_count": 119,
   "id": "cbad239c-8a78-4fa3-8d11-1cc73fbba8b1",
   "metadata": {},
   "outputs": [
    {
     "name": "stderr",
     "output_type": "stream",
     "text": [
      "I0000 00:00:1750619607.912905   66466 gl_context_egl.cc:85] Successfully initialized EGL. Major : 1 Minor: 5\n",
      "I0000 00:00:1750619607.920692   81740 gl_context.cc:369] GL version: 3.2 (OpenGL ES 3.2 Mesa 25.0.3-1ubuntu2), renderer: zink Vulkan 1.4(NVIDIA GeForce RTX 4070 (NVIDIA_PROPRIETARY))\n",
      "W0000 00:00:1750619607.977759   81750 inference_feedback_manager.cc:114] Feedback manager requires a model with a single signature inference. Disabling support for feedback tensors.\n",
      "W0000 00:00:1750619608.022471   81749 inference_feedback_manager.cc:114] Feedback manager requires a model with a single signature inference. Disabling support for feedback tensors.\n"
     ]
    },
    {
     "name": "stdout",
     "output_type": "stream",
     "text": [
      "Can't receive frame (stream end?). Exiting ...\n"
     ]
    }
   ],
   "source": [
    "# Run the Landmarker\n",
    "with PoseLandmarker.create_from_options(options) as landmarker:\n",
    "    while cap.isOpened():\n",
    "        ret, frame = cap.read()\n",
    "        # if frame is read correctly ret is True\n",
    "        if not ret:\n",
    "            print(\"Can't receive frame (stream end?). Exiting ...\")\n",
    "            break\n",
    "            \n",
    "        # Get the timestamp\n",
    "        timestamp = int(1000 * frame_index / fps)\n",
    "        frame_index += 1\n",
    "        # Convert the CV image to MP\n",
    "        mpImage = mp.Image(image_format=mp.ImageFormat.SRGB, data=frame)\n",
    "\n",
    "        # Get the poseresult\n",
    "        pose_landmarker_result = landmarker.detect_for_video(mpImage, timestamp)\n",
    "\n",
    "        # Display the frames\n",
    "        annotatedFrame = frame.copy()\n",
    "\n",
    "        if pose_landmarker_result.pose_landmarks:\n",
    "            for landmarks in pose_landmarker_result.pose_landmarks:\n",
    "                # Convert list of landmarks to NormalizedLandmarkList\n",
    "                # New Task api is not supported by \n",
    "                landmark_list_proto = landmark_pb2.NormalizedLandmarkList()\n",
    "                for lmk in landmarks:\n",
    "                    landmark_list_proto.landmark.add(\n",
    "                        x=lmk.x,\n",
    "                        y=lmk.y,\n",
    "                        z=lmk.z,\n",
    "                        visibility=lmk.visibility,\n",
    "                        presence=lmk.presence\n",
    "                    )\n",
    "                \n",
    "                mp_solutions.drawing_utils.draw_landmarks(\n",
    "                    image=annotatedFrame,\n",
    "                    landmark_list=landmark_list_proto,\n",
    "                    connections=mp_solutions.pose.POSE_CONNECTIONS,\n",
    "                    landmark_drawing_spec=mp_solutions.drawing_utils.DrawingSpec(color=(0,255,0), thickness=2, circle_radius=2),\n",
    "                    connection_drawing_spec=mp_solutions.drawing_utils.DrawingSpec(color=(0,0,255), thickness=2),\n",
    "                )\n",
    "\n",
    "        # Keep the frame in original size\n",
    "        # cv.imshow('Pose Detection', annotatedFrame)\n",
    "        # Resize the frame to be larger\n",
    "        resized_frame = cv.resize(annotatedFrame, None, fx=3.0, fy=3.0, interpolation=cv.INTER_LINEAR)\n",
    "        cv.imshow('Pose Detection', resized_frame)\n",
    "        \n",
    "        # Wait between each one\n",
    "        if cv.waitKey(1) == ord('q'): # Change wait time to play video slower or faster\n",
    "            break\n",
    "        # input(\"press enter to continue\") # Uncomment this line to have step by step functionality\n",
    "        \n",
    "    cap.release()\n",
    "    cv.destroyAllWindows()"
   ]
  },
  {
   "cell_type": "code",
   "execution_count": null,
   "id": "c04b4277-f51f-4015-ab39-231d15447415",
   "metadata": {},
   "outputs": [],
   "source": []
  }
 ],
 "metadata": {
  "kernelspec": {
   "display_name": "Python 3 (ipykernel)",
   "language": "python",
   "name": "python3"
  },
  "language_info": {
   "codemirror_mode": {
    "name": "ipython",
    "version": 3
   },
   "file_extension": ".py",
   "mimetype": "text/x-python",
   "name": "python",
   "nbconvert_exporter": "python",
   "pygments_lexer": "ipython3",
   "version": "3.10.13"
  }
 },
 "nbformat": 4,
 "nbformat_minor": 5
}
