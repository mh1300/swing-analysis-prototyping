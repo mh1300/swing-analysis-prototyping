{
 "cells": [
  {
   "cell_type": "code",
   "execution_count": 1,
   "id": "29353d9d-3159-44f7-90d7-634cb8d5549b",
   "metadata": {},
   "outputs": [
    {
     "name": "stderr",
     "output_type": "stream",
     "text": [
      "2025-07-01 13:27:27.083969: E external/local_xla/xla/stream_executor/cuda/cuda_fft.cc:467] Unable to register cuFFT factory: Attempting to register factory for plugin cuFFT when one has already been registered\n",
      "WARNING: All log messages before absl::InitializeLog() is called are written to STDERR\n",
      "E0000 00:00:1751390847.143122   15415 cuda_dnn.cc:8579] Unable to register cuDNN factory: Attempting to register factory for plugin cuDNN when one has already been registered\n",
      "E0000 00:00:1751390847.158498   15415 cuda_blas.cc:1407] Unable to register cuBLAS factory: Attempting to register factory for plugin cuBLAS when one has already been registered\n",
      "W0000 00:00:1751390847.279561   15415 computation_placer.cc:177] computation placer already registered. Please check linkage and avoid linking the same target more than once.\n",
      "W0000 00:00:1751390847.279585   15415 computation_placer.cc:177] computation placer already registered. Please check linkage and avoid linking the same target more than once.\n",
      "W0000 00:00:1751390847.279587   15415 computation_placer.cc:177] computation placer already registered. Please check linkage and avoid linking the same target more than once.\n",
      "W0000 00:00:1751390847.279588   15415 computation_placer.cc:177] computation placer already registered. Please check linkage and avoid linking the same target more than once.\n",
      "2025-07-01 13:27:27.292829: I tensorflow/core/platform/cpu_feature_guard.cc:210] This TensorFlow binary is optimized to use available CPU instructions in performance-critical operations.\n",
      "To enable the following instructions: AVX2 FMA, in other operations, rebuild TensorFlow with the appropriate compiler flags.\n"
     ]
    }
   ],
   "source": [
    "from sklearn.model_selection import train_test_split\n",
    "from tensorflow.keras.utils import to_categorical\n",
    "import tensorflow as tf\n",
    "import numpy as np\n",
    "import matplotlib.pyplot as plt\n",
    "\n",
    "from tensorflow.keras.layers import Input, Dense, Conv1D, Flatten, Concatenate, Dropout, BatchNormalization, ReLU, Reshape\n",
    "from tensorflow.keras.models import Model"
   ]
  },
  {
   "cell_type": "code",
   "execution_count": 2,
   "id": "e9dc8f09-10a8-444b-8d8e-76647ef4649a",
   "metadata": {},
   "outputs": [],
   "source": [
    "# Constants\n",
    "NUM_CLASSES = 8\n",
    "NUM_LANDMARKS = 99\n",
    "NUM_FEATURES = 6"
   ]
  },
  {
   "cell_type": "code",
   "execution_count": 13,
   "id": "44f335df-2394-4c5e-b2cf-3f4e170d6b0c",
   "metadata": {},
   "outputs": [],
   "source": [
    "# Load in the data\n",
    "# data = np.load('../data/segmentedPose.npy')\n",
    "data = np.load('../data/segmentedPose_augmented.npy')\n",
    "# data = data[data[:,101] == 0] # For testing 1 camera direction\n",
    "\n",
    "X = data[:,0:-1]\n",
    "X_lmk = X[:,0:NUM_LANDMARKS]\n",
    "X_features = X[:,NUM_LANDMARKS:-1]\n",
    "y = data[:,-1].astype(int)\n",
    "\n",
    "# Convert y to categorical data\n",
    "y = to_categorical(y, num_classes=NUM_CLASSES)"
   ]
  },
  {
   "cell_type": "code",
   "execution_count": 17,
   "id": "1e69b807-8b2e-46c5-9fc0-23e795378f69",
   "metadata": {},
   "outputs": [],
   "source": [
    "# Get training and test splits\n",
    "X_train, X_val, y_train, y_val = train_test_split(X, y, test_size=0.2, stratify=y, random_state=67)\n",
    "\n",
    "# Split X into pose vs other features\n",
    "X_train_lmk = X_train[:,0:NUM_LANDMARKS]\n",
    "X_train_features = X_train[:,NUM_LANDMARKS:]\n",
    "\n",
    "\n",
    "X_val_lmk = X_val[:,0:NUM_LANDMARKS]\n",
    "X_val_features = X_val[:,NUM_LANDMARKS:]"
   ]
  },
  {
   "cell_type": "code",
   "execution_count": 5,
   "id": "80f514b3-1160-4d4c-867e-cfd4ecb87e1c",
   "metadata": {},
   "outputs": [
    {
     "name": "stderr",
     "output_type": "stream",
     "text": [
      "I0000 00:00:1751390866.432581   15415 gpu_device.cc:2019] Created device /job:localhost/replica:0/task:0/device:GPU:0 with 9320 MB memory:  -> device: 0, name: NVIDIA GeForce RTX 4070, pci bus id: 0000:07:00.0, compute capability: 8.9\n"
     ]
    }
   ],
   "source": [
    "# model = tf.keras.Sequential([\n",
    "#     tf.keras.layers.Input(shape=(99,)),\n",
    "#     tf.keras.layers.Reshape((33, 3)),\n",
    "#     tf.keras.layers.Conv1D(64, kernel_size=3, activation='relu'),\n",
    "#     tf.keras.layers.BatchNormalization(),\n",
    "#     tf.keras.layers.Conv1D(128, kernel_size=3, activation='relu'),\n",
    "#     tf.keras.layers.BatchNormalization(),\n",
    "#     tf.keras.layers.GlobalMaxPooling1D(),\n",
    "#     tf.keras.layers.Dense(64, activation='relu'),\n",
    "#     tf.keras.layers.Dropout(0.3),\n",
    "#     tf.keras.layers.Dense(NUM_CLASSES, activation='softmax')\n",
    "# ])\n",
    "\n",
    "# model = tf.keras.Sequential([\n",
    "#     tf.keras.layers.Input(shape=(99,)),\n",
    "#     tf.keras.layers.Reshape((33, 3)),\n",
    "\n",
    "#     tf.keras.layers.Conv1D(64, 3, padding='same', kernel_regularizer=tf.keras.regularizers.l2(1e-4)),\n",
    "#     tf.keras.layers.BatchNormalization(),\n",
    "#     tf.keras.layers.ReLU(),\n",
    "\n",
    "#     tf.keras.layers.Conv1D(128, 3, padding='same', kernel_regularizer=tf.keras.regularizers.l2(1e-4)),\n",
    "#     tf.keras.layers.BatchNormalization(),\n",
    "#     tf.keras.layers.ReLU(),\n",
    "\n",
    "#     tf.keras.layers.Conv1D(256, 3, padding='same', kernel_regularizer=tf.keras.regularizers.l2(1e-4)),\n",
    "#     tf.keras.layers.BatchNormalization(),\n",
    "#     tf.keras.layers.ReLU(),\n",
    "\n",
    "#     tf.keras.layers.GlobalAveragePooling1D(),\n",
    "#     tf.keras.layers.Dense(64),\n",
    "#     tf.keras.layers.BatchNormalization(),\n",
    "#     tf.keras.layers.ReLU(),\n",
    "#     tf.keras.layers.Dropout(0.4),\n",
    "#     tf.keras.layers.Dense(NUM_CLASSES, activation='softmax')\n",
    "# ])\n",
    "\n",
    "########### Dual Input Model ###########\n",
    "# ---- Input 1: Flattened pose landmarks (shape = 99,) ----\n",
    "pose_input = Input(shape=(99,), name=\"pose_input\")\n",
    "x1 = Reshape((33, 3))(pose_input)  # Reshape to (33, 3)\n",
    "x1 = Conv1D(64, kernel_size=9, activation='relu')(x1)\n",
    "x1 = BatchNormalization()(x1)\n",
    "x1 = Conv1D(128, kernel_size=9, activation='relu')(x1)\n",
    "x1 = BatchNormalization()(x1)\n",
    "x1 = Flatten()(x1)\n",
    "\n",
    "# ---- Input 2: Engineered features (e.g., angles, distances) ----\n",
    "eng_input = Input(shape=(NUM_FEATURES,), name=\"eng_input\")\n",
    "x2 = Dense(128)(eng_input)\n",
    "x2 = BatchNormalization()(x2)\n",
    "x2 = ReLU()(x2)\n",
    "x2 = Dropout(0.2)(x2)\n",
    "\n",
    "# ---- Combine both branches ----\n",
    "combined = Concatenate()([x1, x2])\n",
    "combined = Dense(128, activation='relu')(combined)\n",
    "combined = Dropout(0.3)(combined)\n",
    "combined = Dense(64, activation='relu')(combined)\n",
    "output = Dense(NUM_CLASSES, activation='softmax')(combined)"
   ]
  },
  {
   "cell_type": "code",
   "execution_count": 6,
   "id": "818bdefd-61d2-4404-8790-9d6c94567be7",
   "metadata": {},
   "outputs": [],
   "source": [
    "# Initialize optimizer and model\n",
    "lr_schedule = tf.keras.optimizers.schedules.ExponentialDecay(\n",
    "    initial_learning_rate=0.001,\n",
    "    decay_steps=100,\n",
    "    decay_rate=0.9\n",
    ")\n",
    "early_stop = tf.keras.callbacks.EarlyStopping(\n",
    "    monitor='val_loss',\n",
    "    patience=10,             # Wait 10 epochs with no improvement\n",
    "    restore_best_weights=True,  # Restore the best weights (not the last ones)\n",
    "    verbose=1\n",
    ")\n",
    "reduce_lr = tf.keras.callbacks.ReduceLROnPlateau(\n",
    "    monitor='val_loss',\n",
    "    factor=0.5,       # Reduce learning rate by half\n",
    "    patience=5,       # Wait 5 epochs with no improvement\n",
    "    min_lr=1e-6,      # Don't go below this learning rate\n",
    "    verbose=1\n",
    ")\n",
    "optimizer = tf.keras.optimizers.Adam(learning_rate=lr_schedule)"
   ]
  },
  {
   "cell_type": "code",
   "execution_count": 7,
   "id": "0d378daf-f1b4-4ec6-ade8-e0ee144ee255",
   "metadata": {},
   "outputs": [],
   "source": [
    "# # Compile the model\n",
    "# model.compile(\n",
    "#     optimizer=optimizer,\n",
    "#     loss='categorical_crossentropy',\n",
    "#     metrics=[\n",
    "#         'accuracy',\n",
    "#         tf.keras.metrics.Precision(name='precision'),\n",
    "#         tf.keras.metrics.Recall(name='recall')\n",
    "#     ]\n",
    "# )\n",
    "\n",
    "# ---- Build and compile ----\n",
    "model = Model(inputs=[pose_input, eng_input], outputs=output)\n",
    "model.compile(\n",
    "    optimizer='adam',\n",
    "    loss='categorical_crossentropy',\n",
    "    metrics=[\n",
    "        'accuracy',\n",
    "        tf.keras.metrics.Precision(name='precision'),\n",
    "        tf.keras.metrics.Recall(name='recall')\n",
    "    ]\n",
    ")"
   ]
  },
  {
   "cell_type": "code",
   "execution_count": 8,
   "id": "6b056907-5a78-4446-a12b-6aa23626aae7",
   "metadata": {
    "scrolled": true
   },
   "outputs": [
    {
     "name": "stdout",
     "output_type": "stream",
     "text": [
      "Epoch 1/100\n"
     ]
    },
    {
     "name": "stderr",
     "output_type": "stream",
     "text": [
      "WARNING: All log messages before absl::InitializeLog() is called are written to STDERR\n",
      "I0000 00:00:1751390896.742324   15515 service.cc:152] XLA service 0x7a8cac005ca0 initialized for platform CUDA (this does not guarantee that XLA will be used). Devices:\n",
      "I0000 00:00:1751390896.742363   15515 service.cc:160]   StreamExecutor device (0): NVIDIA GeForce RTX 4070, Compute Capability 8.9\n",
      "2025-07-01 13:28:16.805931: I tensorflow/compiler/mlir/tensorflow/utils/dump_mlir_util.cc:269] disabling MLIR crash reproducer, set env var `MLIR_CRASH_REPRODUCER_DIRECTORY` to enable.\n",
      "I0000 00:00:1751390897.085982   15515 cuda_dnn.cc:529] Loaded cuDNN version 90501\n",
      "2025-07-01 13:28:18.207324: I external/local_xla/xla/stream_executor/cuda/subprocess_compilation.cc:346] ptxas warning : Registers are spilled to local memory in function 'gemm_fusion_dot_2075', 684 bytes spill stores, 552 bytes spill loads\n",
      "\n",
      "2025-07-01 13:28:18.469133: I external/local_xla/xla/stream_executor/cuda/subprocess_compilation.cc:346] ptxas warning : Registers are spilled to local memory in function 'gemm_fusion_dot_2075', 20 bytes spill stores, 20 bytes spill loads\n",
      "\n"
     ]
    },
    {
     "name": "stdout",
     "output_type": "stream",
     "text": [
      "\u001b[1m 81/152\u001b[0m \u001b[32m━━━━━━━━━━\u001b[0m\u001b[37m━━━━━━━━━━\u001b[0m \u001b[1m0s\u001b[0m 2ms/step - accuracy: 0.4133 - loss: 1.6539 - precision: 0.5538 - recall: 0.2653"
     ]
    },
    {
     "name": "stderr",
     "output_type": "stream",
     "text": [
      "I0000 00:00:1751390900.674290   15515 device_compiler.h:188] Compiled cluster using XLA!  This line is logged at most once for the lifetime of the process.\n"
     ]
    },
    {
     "name": "stdout",
     "output_type": "stream",
     "text": [
      "\u001b[1m135/152\u001b[0m \u001b[32m━━━━━━━━━━━━━━━━━\u001b[0m\u001b[37m━━━\u001b[0m \u001b[1m0s\u001b[0m 2ms/step - accuracy: 0.4524 - loss: 1.5362 - precision: 0.5896 - recall: 0.3035"
     ]
    },
    {
     "name": "stderr",
     "output_type": "stream",
     "text": [
      "2025-07-01 13:28:22.299692: I external/local_xla/xla/stream_executor/cuda/subprocess_compilation.cc:346] ptxas warning : Registers are spilled to local memory in function 'gemm_fusion_dot_2075', 36 bytes spill stores, 36 bytes spill loads\n",
      "\n",
      "2025-07-01 13:28:22.340123: I external/local_xla/xla/stream_executor/cuda/subprocess_compilation.cc:346] ptxas warning : Registers are spilled to local memory in function 'gemm_fusion_dot_2075', 20 bytes spill stores, 20 bytes spill loads\n",
      "\n",
      "2025-07-01 13:28:22.421494: I external/local_xla/xla/stream_executor/cuda/subprocess_compilation.cc:346] ptxas warning : Registers are spilled to local memory in function 'gemm_fusion_dot_2075', 492 bytes spill stores, 492 bytes spill loads\n",
      "\n"
     ]
    },
    {
     "name": "stdout",
     "output_type": "stream",
     "text": [
      "\u001b[1m152/152\u001b[0m \u001b[32m━━━━━━━━━━━━━━━━━━━━\u001b[0m\u001b[37m\u001b[0m \u001b[1m0s\u001b[0m 23ms/step - accuracy: 0.4618 - loss: 1.5083 - precision: 0.5979 - recall: 0.3136"
     ]
    },
    {
     "name": "stderr",
     "output_type": "stream",
     "text": [
      "2025-07-01 13:28:24.860659: I external/local_xla/xla/stream_executor/cuda/subprocess_compilation.cc:346] ptxas warning : Registers are spilled to local memory in function 'gemm_fusion_dot_169', 8 bytes spill stores, 8 bytes spill loads\n",
      "\n",
      "2025-07-01 13:28:24.905373: I external/local_xla/xla/stream_executor/cuda/subprocess_compilation.cc:346] ptxas warning : Registers are spilled to local memory in function 'gemm_fusion_dot_169', 12 bytes spill stores, 12 bytes spill loads\n",
      "\n",
      "2025-07-01 13:28:24.989513: I external/local_xla/xla/stream_executor/cuda/subprocess_compilation.cc:346] ptxas warning : Registers are spilled to local memory in function 'gemm_fusion_dot_169', 112 bytes spill stores, 112 bytes spill loads\n",
      "\n",
      "2025-07-01 13:28:25.961951: I external/local_xla/xla/stream_executor/cuda/subprocess_compilation.cc:346] ptxas warning : Registers are spilled to local memory in function 'gemm_fusion_dot_169', 12 bytes spill stores, 12 bytes spill loads\n",
      "\n",
      "2025-07-01 13:28:26.159686: I external/local_xla/xla/stream_executor/cuda/subprocess_compilation.cc:346] ptxas warning : Registers are spilled to local memory in function 'gemm_fusion_dot_169', 132 bytes spill stores, 132 bytes spill loads\n",
      "\n"
     ]
    },
    {
     "name": "stdout",
     "output_type": "stream",
     "text": [
      "\u001b[1m152/152\u001b[0m \u001b[32m━━━━━━━━━━━━━━━━━━━━\u001b[0m\u001b[37m\u001b[0m \u001b[1m12s\u001b[0m 39ms/step - accuracy: 0.4623 - loss: 1.5067 - precision: 0.5984 - recall: 0.3141 - val_accuracy: 0.2761 - val_loss: 2.0213 - val_precision: 0.5172 - val_recall: 0.0123 - learning_rate: 0.0010\n",
      "Epoch 2/100\n",
      "\u001b[1m152/152\u001b[0m \u001b[32m━━━━━━━━━━━━━━━━━━━━\u001b[0m\u001b[37m\u001b[0m \u001b[1m0s\u001b[0m 3ms/step - accuracy: 0.6489 - loss: 0.9550 - precision: 0.7463 - recall: 0.5395 - val_accuracy: 0.2440 - val_loss: 2.6124 - val_precision: 0.2795 - val_recall: 0.2156 - learning_rate: 0.0010\n",
      "Epoch 3/100\n",
      "\u001b[1m152/152\u001b[0m \u001b[32m━━━━━━━━━━━━━━━━━━━━\u001b[0m\u001b[37m\u001b[0m \u001b[1m0s\u001b[0m 3ms/step - accuracy: 0.7360 - loss: 0.7267 - precision: 0.8025 - recall: 0.6615 - val_accuracy: 0.5214 - val_loss: 1.2454 - val_precision: 0.6118 - val_recall: 0.3827 - learning_rate: 0.0010\n",
      "Epoch 4/100\n",
      "\u001b[1m152/152\u001b[0m \u001b[32m━━━━━━━━━━━━━━━━━━━━\u001b[0m\u001b[37m\u001b[0m \u001b[1m0s\u001b[0m 3ms/step - accuracy: 0.7475 - loss: 0.6776 - precision: 0.8157 - recall: 0.6828 - val_accuracy: 0.7354 - val_loss: 0.7183 - val_precision: 0.8183 - val_recall: 0.6486 - learning_rate: 0.0010\n",
      "Epoch 5/100\n",
      "\u001b[1m152/152\u001b[0m \u001b[32m━━━━━━━━━━━━━━━━━━━━\u001b[0m\u001b[37m\u001b[0m \u001b[1m0s\u001b[0m 3ms/step - accuracy: 0.7852 - loss: 0.5820 - precision: 0.8383 - recall: 0.7318 - val_accuracy: 0.7613 - val_loss: 0.6739 - val_precision: 0.8191 - val_recall: 0.7062 - learning_rate: 0.0010\n",
      "Epoch 6/100\n",
      "\u001b[1m152/152\u001b[0m \u001b[32m━━━━━━━━━━━━━━━━━━━━\u001b[0m\u001b[37m\u001b[0m \u001b[1m0s\u001b[0m 3ms/step - accuracy: 0.8131 - loss: 0.5143 - precision: 0.8535 - recall: 0.7722 - val_accuracy: 0.8086 - val_loss: 0.5783 - val_precision: 0.8610 - val_recall: 0.7568 - learning_rate: 0.0010\n",
      "Epoch 7/100\n",
      "\u001b[1m152/152\u001b[0m \u001b[32m━━━━━━━━━━━━━━━━━━━━\u001b[0m\u001b[37m\u001b[0m \u001b[1m0s\u001b[0m 3ms/step - accuracy: 0.8280 - loss: 0.4859 - precision: 0.8672 - recall: 0.7904 - val_accuracy: 0.8189 - val_loss: 0.5259 - val_precision: 0.8749 - val_recall: 0.7741 - learning_rate: 0.0010\n",
      "Epoch 8/100\n",
      "\u001b[1m152/152\u001b[0m \u001b[32m━━━━━━━━━━━━━━━━━━━━\u001b[0m\u001b[37m\u001b[0m \u001b[1m0s\u001b[0m 3ms/step - accuracy: 0.8333 - loss: 0.4493 - precision: 0.8731 - recall: 0.7986 - val_accuracy: 0.8136 - val_loss: 0.5730 - val_precision: 0.8480 - val_recall: 0.7807 - learning_rate: 0.0010\n",
      "Epoch 9/100\n",
      "\u001b[1m152/152\u001b[0m \u001b[32m━━━━━━━━━━━━━━━━━━━━\u001b[0m\u001b[37m\u001b[0m \u001b[1m0s\u001b[0m 3ms/step - accuracy: 0.8411 - loss: 0.4426 - precision: 0.8778 - recall: 0.8107 - val_accuracy: 0.7996 - val_loss: 0.5910 - val_precision: 0.8308 - val_recall: 0.7741 - learning_rate: 0.0010\n",
      "Epoch 10/100\n",
      "\u001b[1m152/152\u001b[0m \u001b[32m━━━━━━━━━━━━━━━━━━━━\u001b[0m\u001b[37m\u001b[0m \u001b[1m0s\u001b[0m 3ms/step - accuracy: 0.8625 - loss: 0.3802 - precision: 0.8924 - recall: 0.8344 - val_accuracy: 0.8370 - val_loss: 0.4883 - val_precision: 0.8691 - val_recall: 0.8033 - learning_rate: 0.0010\n",
      "Epoch 11/100\n",
      "\u001b[1m152/152\u001b[0m \u001b[32m━━━━━━━━━━━━━━━━━━━━\u001b[0m\u001b[37m\u001b[0m \u001b[1m0s\u001b[0m 3ms/step - accuracy: 0.8735 - loss: 0.3563 - precision: 0.9021 - recall: 0.8496 - val_accuracy: 0.8683 - val_loss: 0.4276 - val_precision: 0.8963 - val_recall: 0.8469 - learning_rate: 0.0010\n",
      "Epoch 12/100\n",
      "\u001b[1m152/152\u001b[0m \u001b[32m━━━━━━━━━━━━━━━━━━━━\u001b[0m\u001b[37m\u001b[0m \u001b[1m0s\u001b[0m 3ms/step - accuracy: 0.8837 - loss: 0.3404 - precision: 0.9087 - recall: 0.8605 - val_accuracy: 0.8325 - val_loss: 0.5174 - val_precision: 0.8586 - val_recall: 0.8074 - learning_rate: 0.0010\n",
      "Epoch 13/100\n",
      "\u001b[1m152/152\u001b[0m \u001b[32m━━━━━━━━━━━━━━━━━━━━\u001b[0m\u001b[37m\u001b[0m \u001b[1m0s\u001b[0m 3ms/step - accuracy: 0.8823 - loss: 0.3228 - precision: 0.9072 - recall: 0.8594 - val_accuracy: 0.8329 - val_loss: 0.5177 - val_precision: 0.8617 - val_recall: 0.8103 - learning_rate: 0.0010\n",
      "Epoch 14/100\n",
      "\u001b[1m152/152\u001b[0m \u001b[32m━━━━━━━━━━━━━━━━━━━━\u001b[0m\u001b[37m\u001b[0m \u001b[1m0s\u001b[0m 3ms/step - accuracy: 0.8959 - loss: 0.2922 - precision: 0.9176 - recall: 0.8763 - val_accuracy: 0.8663 - val_loss: 0.4286 - val_precision: 0.8882 - val_recall: 0.8535 - learning_rate: 0.0010\n",
      "Epoch 15/100\n",
      "\u001b[1m152/152\u001b[0m \u001b[32m━━━━━━━━━━━━━━━━━━━━\u001b[0m\u001b[37m\u001b[0m \u001b[1m0s\u001b[0m 3ms/step - accuracy: 0.8946 - loss: 0.2968 - precision: 0.9191 - recall: 0.8763 - val_accuracy: 0.8605 - val_loss: 0.4527 - val_precision: 0.8935 - val_recall: 0.8354 - learning_rate: 0.0010\n",
      "Epoch 16/100\n",
      "\u001b[1m152/152\u001b[0m \u001b[32m━━━━━━━━━━━━━━━━━━━━\u001b[0m\u001b[37m\u001b[0m \u001b[1m0s\u001b[0m 3ms/step - accuracy: 0.9111 - loss: 0.2647 - precision: 0.9282 - recall: 0.8965 - val_accuracy: 0.8704 - val_loss: 0.4086 - val_precision: 0.8993 - val_recall: 0.8494 - learning_rate: 0.0010\n",
      "Epoch 17/100\n",
      "\u001b[1m152/152\u001b[0m \u001b[32m━━━━━━━━━━━━━━━━━━━━\u001b[0m\u001b[37m\u001b[0m \u001b[1m0s\u001b[0m 3ms/step - accuracy: 0.9159 - loss: 0.2403 - precision: 0.9299 - recall: 0.9004 - val_accuracy: 0.8679 - val_loss: 0.4264 - val_precision: 0.8946 - val_recall: 0.8527 - learning_rate: 0.0010\n",
      "Epoch 18/100\n",
      "\u001b[1m152/152\u001b[0m \u001b[32m━━━━━━━━━━━━━━━━━━━━\u001b[0m\u001b[37m\u001b[0m \u001b[1m0s\u001b[0m 2ms/step - accuracy: 0.9133 - loss: 0.2393 - precision: 0.9328 - recall: 0.8976 - val_accuracy: 0.8663 - val_loss: 0.4481 - val_precision: 0.8896 - val_recall: 0.8556 - learning_rate: 0.0010\n",
      "Epoch 19/100\n",
      "\u001b[1m152/152\u001b[0m \u001b[32m━━━━━━━━━━━━━━━━━━━━\u001b[0m\u001b[37m\u001b[0m \u001b[1m0s\u001b[0m 2ms/step - accuracy: 0.9186 - loss: 0.2298 - precision: 0.9331 - recall: 0.9032 - val_accuracy: 0.8379 - val_loss: 0.5386 - val_precision: 0.8586 - val_recall: 0.8218 - learning_rate: 0.0010\n",
      "Epoch 20/100\n",
      "\u001b[1m152/152\u001b[0m \u001b[32m━━━━━━━━━━━━━━━━━━━━\u001b[0m\u001b[37m\u001b[0m \u001b[1m0s\u001b[0m 3ms/step - accuracy: 0.9163 - loss: 0.2388 - precision: 0.9334 - recall: 0.9047 - val_accuracy: 0.8687 - val_loss: 0.4027 - val_precision: 0.8908 - val_recall: 0.8527 - learning_rate: 0.0010\n",
      "Epoch 21/100\n",
      "\u001b[1m152/152\u001b[0m \u001b[32m━━━━━━━━━━━━━━━━━━━━\u001b[0m\u001b[37m\u001b[0m \u001b[1m0s\u001b[0m 3ms/step - accuracy: 0.9251 - loss: 0.2100 - precision: 0.9400 - recall: 0.9143 - val_accuracy: 0.8757 - val_loss: 0.4251 - val_precision: 0.8977 - val_recall: 0.8630 - learning_rate: 0.0010\n",
      "Epoch 22/100\n",
      "\u001b[1m152/152\u001b[0m \u001b[32m━━━━━━━━━━━━━━━━━━━━\u001b[0m\u001b[37m\u001b[0m \u001b[1m0s\u001b[0m 2ms/step - accuracy: 0.9236 - loss: 0.2132 - precision: 0.9364 - recall: 0.9124 - val_accuracy: 0.7872 - val_loss: 0.7568 - val_precision: 0.8096 - val_recall: 0.7700 - learning_rate: 0.0010\n",
      "Epoch 23/100\n",
      "\u001b[1m152/152\u001b[0m \u001b[32m━━━━━━━━━━━━━━━━━━━━\u001b[0m\u001b[37m\u001b[0m \u001b[1m0s\u001b[0m 2ms/step - accuracy: 0.9230 - loss: 0.2161 - precision: 0.9379 - recall: 0.9127 - val_accuracy: 0.8864 - val_loss: 0.4081 - val_precision: 0.9017 - val_recall: 0.8761 - learning_rate: 0.0010\n",
      "Epoch 24/100\n",
      "\u001b[1m152/152\u001b[0m \u001b[32m━━━━━━━━━━━━━━━━━━━━\u001b[0m\u001b[37m\u001b[0m \u001b[1m0s\u001b[0m 3ms/step - accuracy: 0.9283 - loss: 0.2002 - precision: 0.9436 - recall: 0.9163 - val_accuracy: 0.8708 - val_loss: 0.4846 - val_precision: 0.8860 - val_recall: 0.8601 - learning_rate: 0.0010\n",
      "Epoch 25/100\n",
      "\u001b[1m136/152\u001b[0m \u001b[32m━━━━━━━━━━━━━━━━━\u001b[0m\u001b[37m━━━\u001b[0m \u001b[1m0s\u001b[0m 2ms/step - accuracy: 0.9281 - loss: 0.1912 - precision: 0.9404 - recall: 0.9194\n",
      "Epoch 25: ReduceLROnPlateau reducing learning rate to 0.0005000000237487257.\n",
      "\u001b[1m152/152\u001b[0m \u001b[32m━━━━━━━━━━━━━━━━━━━━\u001b[0m\u001b[37m\u001b[0m \u001b[1m0s\u001b[0m 3ms/step - accuracy: 0.9284 - loss: 0.1908 - precision: 0.9406 - recall: 0.9194 - val_accuracy: 0.8885 - val_loss: 0.4090 - val_precision: 0.9052 - val_recall: 0.8802 - learning_rate: 0.0010\n",
      "Epoch 26/100\n",
      "\u001b[1m152/152\u001b[0m \u001b[32m━━━━━━━━━━━━━━━━━━━━\u001b[0m\u001b[37m\u001b[0m \u001b[1m0s\u001b[0m 3ms/step - accuracy: 0.9505 - loss: 0.1462 - precision: 0.9577 - recall: 0.9431 - val_accuracy: 0.9103 - val_loss: 0.3792 - val_precision: 0.9204 - val_recall: 0.9041 - learning_rate: 5.0000e-04\n",
      "Epoch 27/100\n",
      "\u001b[1m152/152\u001b[0m \u001b[32m━━━━━━━━━━━━━━━━━━━━\u001b[0m\u001b[37m\u001b[0m \u001b[1m0s\u001b[0m 3ms/step - accuracy: 0.9595 - loss: 0.1182 - precision: 0.9670 - recall: 0.9524 - val_accuracy: 0.9140 - val_loss: 0.3822 - val_precision: 0.9241 - val_recall: 0.9070 - learning_rate: 5.0000e-04\n",
      "Epoch 28/100\n",
      "\u001b[1m152/152\u001b[0m \u001b[32m━━━━━━━━━━━━━━━━━━━━\u001b[0m\u001b[37m\u001b[0m \u001b[1m0s\u001b[0m 3ms/step - accuracy: 0.9611 - loss: 0.1079 - precision: 0.9702 - recall: 0.9563 - val_accuracy: 0.9119 - val_loss: 0.3841 - val_precision: 0.9202 - val_recall: 0.9058 - learning_rate: 5.0000e-04\n",
      "Epoch 29/100\n",
      "\u001b[1m152/152\u001b[0m \u001b[32m━━━━━━━━━━━━━━━━━━━━\u001b[0m\u001b[37m\u001b[0m \u001b[1m0s\u001b[0m 3ms/step - accuracy: 0.9618 - loss: 0.1048 - precision: 0.9686 - recall: 0.9577 - val_accuracy: 0.9070 - val_loss: 0.4143 - val_precision: 0.9137 - val_recall: 0.9025 - learning_rate: 5.0000e-04\n",
      "Epoch 30/100\n",
      "\u001b[1m152/152\u001b[0m \u001b[32m━━━━━━━━━━━━━━━━━━━━\u001b[0m\u001b[37m\u001b[0m \u001b[1m0s\u001b[0m 3ms/step - accuracy: 0.9679 - loss: 0.0917 - precision: 0.9731 - recall: 0.9631 - val_accuracy: 0.9144 - val_loss: 0.3625 - val_precision: 0.9231 - val_recall: 0.9091 - learning_rate: 5.0000e-04\n",
      "Epoch 31/100\n",
      "\u001b[1m152/152\u001b[0m \u001b[32m━━━━━━━━━━━━━━━━━━━━\u001b[0m\u001b[37m\u001b[0m \u001b[1m0s\u001b[0m 3ms/step - accuracy: 0.9670 - loss: 0.0846 - precision: 0.9733 - recall: 0.9623 - val_accuracy: 0.9152 - val_loss: 0.3794 - val_precision: 0.9238 - val_recall: 0.9082 - learning_rate: 5.0000e-04\n",
      "Epoch 32/100\n",
      "\u001b[1m152/152\u001b[0m \u001b[32m━━━━━━━━━━━━━━━━━━━━\u001b[0m\u001b[37m\u001b[0m \u001b[1m0s\u001b[0m 3ms/step - accuracy: 0.9633 - loss: 0.0999 - precision: 0.9689 - recall: 0.9581 - val_accuracy: 0.9025 - val_loss: 0.4225 - val_precision: 0.9136 - val_recall: 0.8967 - learning_rate: 5.0000e-04\n",
      "Epoch 33/100\n",
      "\u001b[1m152/152\u001b[0m \u001b[32m━━━━━━━━━━━━━━━━━━━━\u001b[0m\u001b[37m\u001b[0m \u001b[1m0s\u001b[0m 2ms/step - accuracy: 0.9693 - loss: 0.0881 - precision: 0.9735 - recall: 0.9646 - val_accuracy: 0.8996 - val_loss: 0.4200 - val_precision: 0.9086 - val_recall: 0.8922 - learning_rate: 5.0000e-04\n",
      "Epoch 34/100\n",
      "\u001b[1m152/152\u001b[0m \u001b[32m━━━━━━━━━━━━━━━━━━━━\u001b[0m\u001b[37m\u001b[0m \u001b[1m0s\u001b[0m 3ms/step - accuracy: 0.9667 - loss: 0.0967 - precision: 0.9721 - recall: 0.9605 - val_accuracy: 0.9053 - val_loss: 0.4153 - val_precision: 0.9124 - val_recall: 0.8996 - learning_rate: 5.0000e-04\n",
      "Epoch 35/100\n",
      "\u001b[1m136/152\u001b[0m \u001b[32m━━━━━━━━━━━━━━━━━\u001b[0m\u001b[37m━━━\u001b[0m \u001b[1m0s\u001b[0m 2ms/step - accuracy: 0.9663 - loss: 0.0918 - precision: 0.9716 - recall: 0.9604\n",
      "Epoch 35: ReduceLROnPlateau reducing learning rate to 0.0002500000118743628.\n",
      "\u001b[1m152/152\u001b[0m \u001b[32m━━━━━━━━━━━━━━━━━━━━\u001b[0m\u001b[37m\u001b[0m \u001b[1m0s\u001b[0m 3ms/step - accuracy: 0.9667 - loss: 0.0913 - precision: 0.9719 - recall: 0.9609 - val_accuracy: 0.9160 - val_loss: 0.4126 - val_precision: 0.9219 - val_recall: 0.9128 - learning_rate: 5.0000e-04\n",
      "Epoch 36/100\n",
      "\u001b[1m152/152\u001b[0m \u001b[32m━━━━━━━━━━━━━━━━━━━━\u001b[0m\u001b[37m\u001b[0m \u001b[1m0s\u001b[0m 3ms/step - accuracy: 0.9740 - loss: 0.0754 - precision: 0.9777 - recall: 0.9699 - val_accuracy: 0.9230 - val_loss: 0.3819 - val_precision: 0.9289 - val_recall: 0.9193 - learning_rate: 2.5000e-04\n",
      "Epoch 37/100\n",
      "\u001b[1m152/152\u001b[0m \u001b[32m━━━━━━━━━━━━━━━━━━━━\u001b[0m\u001b[37m\u001b[0m \u001b[1m0s\u001b[0m 3ms/step - accuracy: 0.9789 - loss: 0.0573 - precision: 0.9821 - recall: 0.9765 - val_accuracy: 0.9185 - val_loss: 0.4102 - val_precision: 0.9248 - val_recall: 0.9156 - learning_rate: 2.5000e-04\n",
      "Epoch 38/100\n",
      "\u001b[1m152/152\u001b[0m \u001b[32m━━━━━━━━━━━━━━━━━━━━\u001b[0m\u001b[37m\u001b[0m \u001b[1m0s\u001b[0m 3ms/step - accuracy: 0.9819 - loss: 0.0502 - precision: 0.9840 - recall: 0.9801 - val_accuracy: 0.9218 - val_loss: 0.4008 - val_precision: 0.9265 - val_recall: 0.9181 - learning_rate: 2.5000e-04\n",
      "Epoch 39/100\n",
      "\u001b[1m152/152\u001b[0m \u001b[32m━━━━━━━━━━━━━━━━━━━━\u001b[0m\u001b[37m\u001b[0m \u001b[1m0s\u001b[0m 2ms/step - accuracy: 0.9805 - loss: 0.0553 - precision: 0.9834 - recall: 0.9772 - val_accuracy: 0.9218 - val_loss: 0.4046 - val_precision: 0.9281 - val_recall: 0.9185 - learning_rate: 2.5000e-04\n",
      "Epoch 40/100\n",
      "\u001b[1m140/152\u001b[0m \u001b[32m━━━━━━━━━━━━━━━━━━\u001b[0m\u001b[37m━━\u001b[0m \u001b[1m0s\u001b[0m 2ms/step - accuracy: 0.9791 - loss: 0.0566 - precision: 0.9822 - recall: 0.9757\n",
      "Epoch 40: ReduceLROnPlateau reducing learning rate to 0.0001250000059371814.\n",
      "\u001b[1m152/152\u001b[0m \u001b[32m━━━━━━━━━━━━━━━━━━━━\u001b[0m\u001b[37m\u001b[0m \u001b[1m0s\u001b[0m 3ms/step - accuracy: 0.9793 - loss: 0.0562 - precision: 0.9823 - recall: 0.9759 - val_accuracy: 0.9177 - val_loss: 0.4167 - val_precision: 0.9221 - val_recall: 0.9156 - learning_rate: 2.5000e-04\n",
      "Epoch 40: early stopping\n",
      "Restoring model weights from the end of the best epoch: 30.\n"
     ]
    }
   ],
   "source": [
    "# Fit the model\n",
    "# history = model.fit(X_train, y_train, validation_data=(X_val, y_val), epochs=50, batch_size=32)\n",
    "history = model.fit(\n",
    "    x={\"pose_input\": X_train_lmk, \"eng_input\": X_train_features},\n",
    "    y=y_train,\n",
    "    validation_data=(\n",
    "        {\"pose_input\": X_val_lmk, \"eng_input\": X_val_features},\n",
    "        y_val\n",
    "    ),\n",
    "    batch_size=64,\n",
    "    epochs=100,\n",
    "    callbacks=[early_stop, reduce_lr]\n",
    ")"
   ]
  },
  {
   "cell_type": "code",
   "execution_count": 9,
   "id": "f7595b51-b37d-4829-964f-30b5b096056a",
   "metadata": {},
   "outputs": [
    {
     "data": {
      "image/png": "[encoded data removed]",
      "text/plain": [
       "<Figure size 640x480 with 1 Axes>"
      ]
     },
     "metadata": {},
     "output_type": "display_data"
    }
   ],
   "source": [
    "# Plot a training history graph\n",
    "plt.plot(history.history['loss'], label='Train Loss')\n",
    "plt.plot(history.history['val_loss'], label='Val Loss')\n",
    "plt.plot(history.history['accuracy'], label='Train Acc')\n",
    "plt.plot(history.history['val_accuracy'], label='Val Acc')\n",
    "# plt.plot(history.history['precision'], label='Precision')\n",
    "# plt.plot(history.history['recall'], label='Recall')\n",
    "plt.xlabel('Epoch')\n",
    "plt.ylabel('Metric')\n",
    "plt.legend()\n",
    "plt.title('Training History')\n",
    "plt.grid(True)\n",
    "plt.show()"
   ]
  },
  {
   "cell_type": "code",
   "execution_count": 10,
   "id": "efbcb839-0e8b-4c22-9326-45be6b7e8b6b",
   "metadata": {},
   "outputs": [],
   "source": [
    "# Save the pre-trained model\n",
    "SAVE_PATH = '../models/model_v0.keras'\n",
    "model.save(SAVE_PATH)"
   ]
  },
  {
   "cell_type": "code",
   "execution_count": null,
   "id": "c81fdc58-8656-4733-9ac4-dbad3f32e76e",
   "metadata": {},
   "outputs": [],
   "source": []
  }
 ],
 "metadata": {
  "kernelspec": {
   "display_name": "Python 3 (ipykernel)",
   "language": "python",
   "name": "python3"
  },
  "language_info": {
   "codemirror_mode": {
    "name": "ipython",
    "version": 3
   },
   "file_extension": ".py",
   "mimetype": "text/x-python",
   "name": "python",
   "nbconvert_exporter": "python",
   "pygments_lexer": "ipython3",
   "version": "3.10.13"
  }
 },
 "nbformat": 4,
 "nbformat_minor": 5
}
